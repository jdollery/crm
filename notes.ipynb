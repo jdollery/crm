{
 "cells": [
  {
   "cell_type": "markdown",
   "metadata": {},
   "source": [
    "npx create-react-app client\n",
    "\n",
    "npm i react-router-dom\n",
    "\n",
    "Port 3000 used by React"
   ]
  },
  {
   "cell_type": "markdown",
   "metadata": {},
   "source": [
    "npm i nodemon express cors dotenv mongoose helmet http-proxy-middleware morgan"
   ]
  }
 ],
 "metadata": {
  "language_info": {
   "name": "python"
  }
 },
 "nbformat": 4,
 "nbformat_minor": 2
}
