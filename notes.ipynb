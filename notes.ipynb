{
 "cells": [
  {
   "cell_type": "markdown",
   "metadata": {},
   "source": [
    "npm i react\n",
    "npm install -g json-server\n",
    "json-server --watch db.json --port 8000 \n",
    "\n",
    "Port 3000 used by React"
   ]
  },
  {
   "cell_type": "markdown",
   "metadata": {},
   "source": [
    "npm i nodemon mongodb express cors dotenv mongoose"
   ]
  },
  {
   "cell_type": "markdown",
   "metadata": {},
   "source": [
    "https://blog.postman.com/how-to-create-a-rest-api-with-node-js-and-express/"
   ]
  }
 ],
 "metadata": {
  "language_info": {
   "name": "python"
  }
 },
 "nbformat": 4,
 "nbformat_minor": 2
}
